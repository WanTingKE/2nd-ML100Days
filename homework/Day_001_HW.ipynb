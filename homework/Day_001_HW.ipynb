{
 "cells": [
  {
   "cell_type": "markdown",
   "metadata": {},
   "source": [
    "<font face=\"標楷體\" size=5 color=RED> **Day_001_HW : 資料介紹與評估資料**"
   ]
  },
  {
   "cell_type": "markdown",
   "metadata": {},
   "source": [
    "<font face=\"標楷體\" size=4 color=blue> 作業1:  請上 Kaggle, 在 Competitions 或 Dataset 中找一組競賽或資料並寫下："
   ]
  },
  {
   "cell_type": "markdown",
   "metadata": {},
   "source": [
    "<font face=\"標楷體\" size=4 color=brown>1.你選的這組資料為何重要?"
   ]
  },
  {
   "cell_type": "markdown",
   "metadata": {},
   "source": [
    "<font face=\"Time New Rome\" size=3 color=green>**Download the Heart disease dataset from Kaggle**\n",
    "#<font face=\"標楷體\" size=3 color=green>藉此資料庫可了解心臟疾病患者之特徵，以找到特徵趨勢及相關性，及建立模型預測心血管事件，從而發展預防性及預測型系統    \n"
   ]
  },
  {
   "cell_type": "markdown",
   "metadata": {},
   "source": [
    "<font face=\"標楷體\" size=4 color=brown>2.資料從何而來 (tips: 譬如提供者是誰、以什麼方式蒐集)?"
   ]
  },
  {
   "cell_type": "markdown",
   "metadata": {},
   "source": [
    "<font face=\"Time New Rome\" size=3 color=green>*Provided from :*\n",
    "    <br>David W. Aha（aha'@'ics.uci.edu）（714）856-8779\n",
    "1. Hungarian Institute of Cardiology. Budapest: Andras Janosi, M.D. \n",
    "2. University Hospital, Zurich, Switzerland: William Steinbrunn, M.D. \n",
    "3. University Hospital, Basel, Switzerland: Matthias Pfisterer, M.D. \n",
    "4. V.A. Medical Center, Long Beach and Cleveland Clinic Foundation: Robert Detrano, M.D., Ph.D."
   ]
  },
  {
   "cell_type": "markdown",
   "metadata": {},
   "source": [
    "<font face=\"標楷體\" size=4 color=brown>3.蒐集而來的資料型態為何?"
   ]
  },
  {
   "cell_type": "markdown",
   "metadata": {},
   "source": [
    "<font face=\"Time New Rome\" size=3 color=green>*Type of Dataset:* The dataset have 14 variables:"
   ]
  },
  {
   "cell_type": "markdown",
   "metadata": {},
   "source": [
    "|No.|variables|type|note|\n",
    "|---|:-----------:|:------------------:|:------------------------------------------------------------:|\n",
    "|1  |age          |numeric             |                                                              |\n",
    "|2  |sex          |category(1/0)       |                                                              |\n",
    "|3  |cp           |category (0/1/2/3)  |chest pain type (4 values)                                    | \n",
    "|4  |trestbps     |numeric             |resting blood pressure                                        |\n",
    "|5  |chol         |numeric             |serum cholestoral in mg/dl                                    |\n",
    "|6  |fbs          |category (1/0)      |fasting blood sugar > 120 mg/dl                               |\n",
    "|7  |restecg      |category (0/1/2)    |resting electrocardiographic results (values 0,1,2)           |\n",
    "|8  |thalach      |numeric             |maximum heart rate achieved                                   |\n",
    "|9  |exang        |category (1/0)      |exercise induced angina                                       |\n",
    "|10 |oldpeak      |numeric             |oldpeak = ST depression induced by exercise relative to rest  |\n",
    "|11 |slope        |category (0/1/2)    |the slope of the peak exercise ST segment                     | \n",
    "|12 |ca           |category (0/1/2/3/4)|number of major vessels (0-3) colored by flourosopy           |\n",
    "|13 |thal         |category (0/1/2/3)  |thal: 3 = normal; 6 = fixed defect; 7 = reversable defect     |\n",
    "|14 |`target`     |category (1/0)      |the predicted attribute                                       |\n"
   ]
  },
  {
   "cell_type": "markdown",
   "metadata": {},
   "source": [
    "<font face=\"標楷體\" size=4 color=brown>4.這組資料想解決的問題如何評估"
   ]
  },
  {
   "cell_type": "markdown",
   "metadata": {},
   "source": [
    "<font face=\"Time New Rome\" size=3 color=green>*We can use machine learning to label target group!*\n",
    "    <br>And use ROC, AUC, Recall-Precise curve... to compare the classification ability"
   ]
  },
  {
   "cell_type": "markdown",
   "metadata": {},
   "source": [
    "<font face=\"標楷體\" size=4 color=blue> 作業2:想像你經營一個自由載客車隊，你希望能透過數據分析以提升業績，請你思考並描述你如何規劃整體的分析/解決方案："
   ]
  },
  {
   "cell_type": "markdown",
   "metadata": {},
   "source": [
    "<font face=\"標楷體\" size=4 color=brown>1.核心問題為何 (tips：如何定義 「提升業績 & 你的假設」)"
   ]
  },
  {
   "cell_type": "markdown",
   "metadata": {},
   "source": [
    "<font face=\"標楷體\" size=3 color=green>先收集關於乘客聚集地之區域及高峰時間，在以空間分析的方式之尋找熱點處，及規劃最低成本路徑，布置車隊行經範圍"
   ]
  },
  {
   "cell_type": "markdown",
   "metadata": {},
   "source": [
    "<font face=\"標楷體\" size=4 color=brown>2.資料從何而來 (tips：哪些資料可能會對你想問的問題產生影響 & 資料如何蒐集)"
   ]
  },
  {
   "cell_type": "markdown",
   "metadata": {},
   "source": [
    "<font face=\"標楷體\" size=3 color=green>問卷、車輛加載GPS定位追蹤...."
   ]
  },
  {
   "cell_type": "markdown",
   "metadata": {},
   "source": [
    "<font face=\"標楷體\" size=4 color=brown>3.蒐集而來的資料型態為何"
   ]
  },
  {
   "cell_type": "markdown",
   "metadata": {},
   "source": [
    "<font face=\"標楷體\" size=3 color=green>紀錄乘客基本特徵(例:職業/年齡/性別)、乘車時間、起訖地點"
   ]
  },
  {
   "cell_type": "markdown",
   "metadata": {},
   "source": [
    "<font face=\"標楷體\" size=4 color=brown>4.你要回答的問題，其如何評估 (tips：你的假設如何驗證)"
   ]
  },
  {
   "cell_type": "markdown",
   "metadata": {},
   "source": [
    "<font face=\"標楷體\" size=3 color=green>製作空間分析地圖驗證"
   ]
  },
  {
   "cell_type": "markdown",
   "metadata": {},
   "source": [
    "<font face=\"標楷體\" size=4 color=blue> 作業3:完成 Mean Squared Error 的函式"
   ]
  },
  {
   "cell_type": "markdown",
   "metadata": {},
   "source": [
    "<font face=\"標楷體\" size=4 color=brown>常見於迴歸問題的評估指標<br>\n",
    "    <font face=\"Time New Rome\" size=4 color=blue>Mean Absolute Error (MAE)<br>\n",
    "    <font face=\"Time New Rome\" size=4 color=blue>Mean Squared Error (MSE)    \n",
    "<font face=\"標楷體\" size=4 color=brown>常見於分類問題的指標<br>\n",
    "     <font face=\"Time New Rome\" size=4 color=blue>Binary Cross Entropy (CE)"
   ]
  },
  {
   "attachments": {
    "%E6%93%B7%E5%8F%96.PNG": {
     "image/png": "[encoded data removed]"
    }
   },
   "cell_type": "markdown",
   "metadata": {},
   "source": [
    "![%E6%93%B7%E5%8F%96.PNG](attachment:%E6%93%B7%E5%8F%96.PNG)"
   ]
  },
  {
   "cell_type": "code",
   "execution_count": 1,
   "metadata": {},
   "outputs": [],
   "source": [
    "import numpy as np\n",
    "import matplotlib.pyplot as plt"
   ]
  },
  {
   "cell_type": "code",
   "execution_count": 2,
   "metadata": {},
   "outputs": [
    {
     "data": {
      "image/png": "[encoded data removed]",
      "text/plain": [
       "<Figure size 432x288 with 1 Axes>"
      ]
     },
     "metadata": {
      "needs_background": "light"
     },
     "output_type": "display_data"
    }
   ],
   "source": [
    "w = 3\n",
    "b = 0.5\n",
    "\n",
    "x_lin = np.linspace(0, 100, 101)\n",
    "\n",
    "y = (x_lin + np.random.randn(101) * 5) * w + b\n",
    "\n",
    "plt.plot(x_lin, y, 'b.', label = 'data points')\n",
    "plt.title(\"Assume we have data points\")\n",
    "plt.legend(loc = 2)\n",
    "plt.show()"
   ]
  },
  {
   "cell_type": "code",
   "execution_count": 3,
   "metadata": {},
   "outputs": [
    {
     "data": {
      "image/png": "[encoded data removed]",
      "text/plain": [
       "<Figure size 432x288 with 1 Axes>"
      ]
     },
     "metadata": {
      "needs_background": "light"
     },
     "output_type": "display_data"
    }
   ],
   "source": [
    "y_hat = x_lin * w + b\n",
    "plt.plot(x_lin, y, 'b.', label = 'data')\n",
    "plt.plot(x_lin, y_hat, 'r-', label = 'prediction')\n",
    "plt.title(\"Assume we have data points (And the prediction)\")\n",
    "plt.legend(loc = 2)\n",
    "plt.show()"
   ]
  },
  {
   "cell_type": "markdown",
   "metadata": {},
   "source": [
    "<font face=\"標楷體\" size=4 color=brown>請寫一個函式用來計算 Mean Square Error<br>\n",
    "$ MSE = \\frac{1}{n}\\sum_{i=1}^{n}{(Y_i - \\hat{Y}_i)^2} $"
   ]
  },
  {
   "cell_type": "code",
   "execution_count": 4,
   "metadata": {},
   "outputs": [
    {
     "name": "stdout",
     "output_type": "stream",
     "text": [
      "The Mean squared error is 176.820\n",
      "The Mean absolute error is 10.789\n"
     ]
    }
   ],
   "source": [
    "def mean_absolute_error(y, yp):\n",
    "    \"\"\"\n",
    "    計算 MAE\n",
    "    Args:\n",
    "        - y: 實際值\n",
    "        - yp: 預測值\n",
    "    Return:\n",
    "        - mae: MAE\n",
    "    \"\"\"\n",
    "    mae = MAE = sum(abs(y - yp)) / len(y)\n",
    "    return mae\n",
    "\n",
    "def mean_squared_error(y, yp):\n",
    "    \"\"\"\n",
    "    計算 MSE\n",
    "    Args:\n",
    "        - y: 實際值\n",
    "        - yp: 預測值\n",
    "    Return:\n",
    "        - mse: MSE\n",
    "    \"\"\"\n",
    "    mse = sum((y - yp)**2) / len(y)\n",
    "    return mse\n",
    "\n",
    "MSE = mean_squared_error(y, y_hat)\n",
    "MAE = mean_absolute_error(y, y_hat)\n",
    "print(\"The Mean squared error is %.3f\" % (MSE))\n",
    "print(\"The Mean absolute error is %.3f\" % (MAE))"
   ]
  }
 ],
 "metadata": {
  "kernelspec": {
   "display_name": "Python 3",
   "language": "python",
   "name": "python3"
  },
  "language_info": {
   "codemirror_mode": {
    "name": "ipython",
    "version": 3
   },
   "file_extension": ".py",
   "mimetype": "text/x-python",
   "name": "python",
   "nbconvert_exporter": "python",
   "pygments_lexer": "ipython3",
   "version": "3.6.6"
  }
 },
 "nbformat": 4,
 "nbformat_minor": 2
}
